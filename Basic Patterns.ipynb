{
 "cells": [
  {
   "cell_type": "markdown",
   "metadata": {},
   "source": [
    "## Pattern 1 \n",
    "\n",
    "**Print given Pattern :**\n",
    "\n",
    "    *\n",
    "    *\n",
    "    *\n",
    "    *\n",
    "    *"
   ]
  },
  {
   "cell_type": "code",
   "execution_count": 1,
   "metadata": {},
   "outputs": [
    {
     "name": "stdout",
     "output_type": "stream",
     "text": [
      "*\n",
      "*\n",
      "*\n",
      "*\n",
      "*\n"
     ]
    }
   ],
   "source": [
    "for i in range(5):\n",
    "    print (\"*\")"
   ]
  },
  {
   "cell_type": "markdown",
   "metadata": {},
   "source": [
    "## Pattern 2\n",
    "\n",
    "**Print Given Pattern:**\n",
    "    \n",
    "    *\n",
    "    * *\n",
    "    * * *\n",
    "    * * * *\n",
    "    * * * * *"
   ]
  },
  {
   "cell_type": "code",
   "execution_count": 2,
   "metadata": {},
   "outputs": [
    {
     "name": "stdout",
     "output_type": "stream",
     "text": [
      "* \n",
      "* * \n",
      "* * * \n",
      "* * * * \n",
      "* * * * * \n"
     ]
    }
   ],
   "source": [
    "for i in range(1,6):\n",
    "    print ('* '*i)"
   ]
  },
  {
   "cell_type": "markdown",
   "metadata": {},
   "source": [
    "## Pattern 3\n",
    "\n",
    "**Print Given Pattern:**\n",
    "    \n",
    "    * * * * *\n",
    "    * * * * \n",
    "    * * *\n",
    "    * *\n",
    "    *"
   ]
  },
  {
   "cell_type": "code",
   "execution_count": 3,
   "metadata": {},
   "outputs": [
    {
     "name": "stdout",
     "output_type": "stream",
     "text": [
      "* * * * * \n",
      "* * * * \n",
      "* * * \n",
      "* * \n",
      "* \n"
     ]
    }
   ],
   "source": [
    "for i in range(5,0,-1):\n",
    "    print ('* '*i)"
   ]
  },
  {
   "cell_type": "markdown",
   "metadata": {},
   "source": [
    "## Pattern 4\n",
    "\n",
    "**Print Given Pattern:**\n",
    "    \n",
    "            *\n",
    "          * *\n",
    "        * * *\n",
    "      * * * * \n",
    "    * * * * * "
   ]
  },
  {
   "cell_type": "code",
   "execution_count": 4,
   "metadata": {},
   "outputs": [
    {
     "name": "stdout",
     "output_type": "stream",
     "text": [
      "          * \n",
      "        * * \n",
      "      * * * \n",
      "    * * * * \n",
      "  * * * * * \n"
     ]
    }
   ],
   "source": [
    "for i in range(1,6):\n",
    "    for j in range(6-i):\n",
    "        print (' ',end=' ')\n",
    "    for j in range(i):\n",
    "        print ('*',end=' ')\n",
    "    print('')"
   ]
  },
  {
   "cell_type": "markdown",
   "metadata": {
    "collapsed": true
   },
   "source": [
    "## Pattern 5\n",
    "\n",
    "**Print Given Pattern:**\n",
    "        \n",
    "         *\n",
    "        * *\n",
    "       * * *\n",
    "      * * * *\n",
    "     * * * * *"
   ]
  },
  {
   "cell_type": "code",
   "execution_count": 5,
   "metadata": {},
   "outputs": [
    {
     "name": "stdout",
     "output_type": "stream",
     "text": [
      "     * \n",
      "    * * \n",
      "   * * * \n",
      "  * * * * \n",
      " * * * * * \n"
     ]
    }
   ],
   "source": [
    "for i in range(1,6):\n",
    "    for j in range(6-i):\n",
    "        print (end=' ')\n",
    "    for j in range(i):\n",
    "        print ('*',end=' ')\n",
    "    print('')"
   ]
  },
  {
   "cell_type": "markdown",
   "metadata": {},
   "source": [
    "## Pattern 6\n",
    "\n",
    "**Print Given Pattern**\n",
    "\n",
    "    1\n",
    "    2 3\n",
    "    4 5 6\n",
    "    7 8 9 10"
   ]
  },
  {
   "cell_type": "code",
   "execution_count": 6,
   "metadata": {},
   "outputs": [
    {
     "name": "stdout",
     "output_type": "stream",
     "text": [
      "1  \n",
      "2 3  \n",
      "4 5 6  \n",
      "7 8 9 10  \n"
     ]
    }
   ],
   "source": [
    "k=1\n",
    "for i in range(1,5):\n",
    "    for j in range(i):\n",
    "        print (k,end=' ')\n",
    "        k+=1\n",
    "    print(' ')"
   ]
  },
  {
   "cell_type": "markdown",
   "metadata": {},
   "source": [
    "## Pattern 7\n",
    "\n",
    "**Print Given Pattern**\n",
    "    \n",
    "    1\n",
    "    1 2\n",
    "    1 2 3\n",
    "    1 2 3 4"
   ]
  },
  {
   "cell_type": "code",
   "execution_count": 7,
   "metadata": {},
   "outputs": [
    {
     "name": "stdout",
     "output_type": "stream",
     "text": [
      "1  \n",
      "1 2  \n",
      "1 2 3  \n",
      "1 2 3 4  \n"
     ]
    }
   ],
   "source": [
    "for i in range(1,5):\n",
    "    for j in range(i):\n",
    "        print (j+1,end=' ')\n",
    "    print(' ')"
   ]
  },
  {
   "cell_type": "markdown",
   "metadata": {},
   "source": [
    "## Pattern 8\n",
    "\n",
    "**Print Given Pattern**\n",
    "\n",
    "        1 \n",
    "       2 3\n",
    "      4 5 6\n",
    "     7 8 9 10 \n",
    "  "
   ]
  },
  {
   "cell_type": "code",
   "execution_count": 8,
   "metadata": {},
   "outputs": [
    {
     "name": "stdout",
     "output_type": "stream",
     "text": [
      "    1 \n",
      "   2 3 \n",
      "  4 5 6 \n",
      " 7 8 9 10 \n"
     ]
    }
   ],
   "source": [
    "k=1\n",
    "for i in range(1,5):\n",
    "    for j in range(5-i):\n",
    "        print (end=' ')\n",
    "    for j in range(i):\n",
    "        print (k,end=' ')\n",
    "        k+=1\n",
    "    print('')"
   ]
  },
  {
   "cell_type": "markdown",
   "metadata": {},
   "source": [
    "## Pattern 9\n",
    "\n",
    "**Print Given Pattern**\n",
    "    \n",
    "        1\n",
    "       1 1\n",
    "      1 2 1\n",
    "     1 3 3 1\n",
    "    1 4 6 4 1 "
   ]
  },
  {
   "cell_type": "code",
   "execution_count": 9,
   "metadata": {},
   "outputs": [
    {
     "name": "stdout",
     "output_type": "stream",
     "text": [
      "input:5\n",
      "     1 \n",
      "    1 1 \n",
      "   1 2 1 \n",
      "  1 3 3 1 \n",
      " 1 4 6 4 1 \n"
     ]
    }
   ],
   "source": [
    "def select(i,j):\n",
    "    if j in (0,i):\n",
    "        return 1\n",
    "    return select(i-1,j-1)+select(i-1,j)\n",
    "a=int(input('input:'))\n",
    "for i in range(a):\n",
    "    for j in range(a-i):\n",
    "        print (end=' ')\n",
    "    for j in range(i+1):\n",
    "        print(select(i,j),end=' ')\n",
    "    print ()"
   ]
  },
  {
   "cell_type": "markdown",
   "metadata": {},
   "source": [
    "## Pattern 10\n",
    "\n",
    "**Print Given Pattern**\n",
    "    \n",
    "    *\n",
    "    * *\n",
    "    * * *\n",
    "    * * * *\n",
    "    * * *\n",
    "    * *\n",
    "    *"
   ]
  },
  {
   "cell_type": "code",
   "execution_count": 10,
   "metadata": {},
   "outputs": [
    {
     "name": "stdout",
     "output_type": "stream",
     "text": [
      "\n",
      "* \n",
      "* * \n",
      "* * * \n",
      "* * * * \n",
      "* * * \n",
      "* * \n",
      "* \n"
     ]
    }
   ],
   "source": [
    "a=4\n",
    "for i in range(a):\n",
    "    print('* '*i)\n",
    "for i in range(a,0,-1):\n",
    "    print ('* '*i)"
   ]
  },
  {
   "cell_type": "markdown",
   "metadata": {},
   "source": [
    "## Pattern 11\n",
    "\n",
    "**Print Given Pattern**\n",
    "    \n",
    "           *\n",
    "         * *\n",
    "       * * *\n",
    "     * * * *\n",
    "       * * *\n",
    "         * *\n",
    "           *"
   ]
  },
  {
   "cell_type": "code",
   "execution_count": 11,
   "metadata": {},
   "outputs": [
    {
     "name": "stdout",
     "output_type": "stream",
     "text": [
      "      * \n",
      "    * * \n",
      "  * * * \n",
      "* * * * \n",
      "  * * * \n",
      "    * * \n",
      "      * \n"
     ]
    }
   ],
   "source": [
    "a=4\n",
    "for i in range(1,a+1):\n",
    "    for j in range(a-i):\n",
    "        print (' ',end=' ')\n",
    "    for j in range(i):\n",
    "        print ('*',end=' ')\n",
    "    print ('')\n",
    "for i in range(1,a):\n",
    "    for j in range(i):\n",
    "        print (' ',end=' ')\n",
    "    for j in range(a-i):\n",
    "        print ('*',end=' ')\n",
    "    print ('')\n",
    "    "
   ]
  },
  {
   "cell_type": "markdown",
   "metadata": {},
   "source": [
    "## Pattern 12\n",
    "\n",
    "**Print Given Pattern**\n",
    "    \n",
    "       *\n",
    "      * *\n",
    "     * * *\n",
    "    * * * *\n",
    "     * * *\n",
    "      * *\n",
    "       *"
   ]
  },
  {
   "cell_type": "code",
   "execution_count": 12,
   "metadata": {},
   "outputs": [
    {
     "name": "stdout",
     "output_type": "stream",
     "text": [
      "   * \n",
      "  * * \n",
      " * * * \n",
      "* * * * \n",
      " * * * \n",
      "  * * \n",
      "   * \n"
     ]
    }
   ],
   "source": [
    "a=4\n",
    "for i in range(1,a+1):\n",
    "    for j in range(a-i):\n",
    "        print (end=' ')\n",
    "    for j in range(i):\n",
    "        print ('*',end=' ')\n",
    "    print('')\n",
    "for i in range(1,a):\n",
    "    for j in range(i):\n",
    "        print (end=' ')\n",
    "    for j in range(a-i):\n",
    "        print ('*',end=' ')\n",
    "    print('')"
   ]
  },
  {
   "cell_type": "markdown",
   "metadata": {},
   "source": [
    "## Pattern 13\n",
    "\n",
    "**Print Given Pattern**\n",
    "    \n",
    "    *           *\n",
    "    * *       * *\n",
    "    * * *   * * *\n",
    "    * * * * * * *\n",
    "    * * *   * * *\n",
    "    * *       * *\n",
    "    *           *"
   ]
  },
  {
   "cell_type": "code",
   "execution_count": 13,
   "metadata": {
    "scrolled": true
   },
   "outputs": [
    {
     "name": "stdout",
     "output_type": "stream",
     "text": [
      "*           *  \n",
      "* *       * *  \n",
      "* * *   * * *  \n",
      "* * * * * * * \n",
      "* * *   * * * \n",
      "* *       * * \n",
      "*           * \n"
     ]
    }
   ],
   "source": [
    "a=4\n",
    "for i in range(1,a):\n",
    "    print('* '*i,end='')\n",
    "    for j in range(a-i):\n",
    "        print(' ',end=' ')\n",
    "    for j in range(a-i-1):\n",
    "        print(' ',end=' ')\n",
    "    for j in range(i):\n",
    "        print('*',end=' ')\n",
    "    print (' ')\n",
    "for i in range(a,0,-1):\n",
    "    print('* '*i,end ='')\n",
    "    for j in range(a-i):\n",
    "        print(' ',end=' ')\n",
    "    for j in range(a-i-1):\n",
    "        print(' ',end=' ')\n",
    "    if i==int(a):\n",
    "        for j in range(i-1,0,-1):\n",
    "            print('*',end=' ')\n",
    "    else:\n",
    "        for j in range(i):\n",
    "            print('*',end=' ')\n",
    "        \n",
    "    print ('')"
   ]
  },
  {
   "cell_type": "markdown",
   "metadata": {},
   "source": [
    "## Pattern 14\n",
    "\n",
    "**Print Given Pattern**\n",
    "    \n",
    "         *\n",
    "        * *\n",
    "       *   *\n",
    "      *     *\n",
    "     *       *\n",
    "      *     *\n",
    "       *   *\n",
    "        * *\n",
    "         *"
   ]
  },
  {
   "cell_type": "code",
   "execution_count": 14,
   "metadata": {},
   "outputs": [
    {
     "name": "stdout",
     "output_type": "stream",
     "text": [
      "    *  \n",
      "   * *  \n",
      "  *   *  \n",
      " *     *  \n",
      "*       *  \n",
      " *     * \n",
      "  *   * \n",
      "   * * \n",
      "    * \n"
     ]
    }
   ],
   "source": [
    "a=5\n",
    "for i in range(1,a+1):\n",
    "    for j in range(a-i):\n",
    "        print (end=' ')\n",
    "    for j in range(i):\n",
    "        if j>0 and j<i-1:\n",
    "            print (' ',end=' ')\n",
    "        else:\n",
    "            print('*',end=' ')\n",
    "    print (' ')\n",
    "for i in range(1,a):\n",
    "    for j in range(i):\n",
    "        print (end=' ')\n",
    "    for j in range(a-i):\n",
    "        if j>0 and j<a-i-1:\n",
    "            print (' ',end=' ')\n",
    "        else:\n",
    "            print('*',end=' ')\n",
    "    print('')"
   ]
  },
  {
   "cell_type": "markdown",
   "metadata": {},
   "source": [
    "## Pattern 15\n",
    "\n",
    "**Print Given Pattern**\n",
    "      \n",
    "       * * * * \n",
    "        * * * \n",
    "         * *\n",
    "          * \n",
    "         * *\n",
    "        * * *\n",
    "       * * * *"
   ]
  },
  {
   "cell_type": "code",
   "execution_count": 15,
   "metadata": {},
   "outputs": [
    {
     "name": "stdout",
     "output_type": "stream",
     "text": [
      " * * * * * \n",
      "  * * * * \n",
      "   * * * \n",
      "    * * \n",
      "     * \n",
      "    * * \n",
      "   * * * \n",
      "  * * * * \n",
      " * * * * * \n"
     ]
    }
   ],
   "source": [
    "a=5\n",
    "for i in range(1,a+1):\n",
    "    for j in range(i):\n",
    "        print (end=' ')\n",
    "    for j in range(a-i+1):\n",
    "        print ('*',end=' ')\n",
    "    print('')\n",
    "for i in range(1,a):\n",
    "    for j in range(a-i):\n",
    "        print (end=' ')\n",
    "    for j in range(i+1):\n",
    "        print ('*',end=' ')\n",
    "    print('')"
   ]
  },
  {
   "cell_type": "markdown",
   "metadata": {},
   "source": [
    "## Pattern 16\n",
    "\n",
    "**Print Given Pattern**\n",
    "    \n",
    "    1\n",
    "    0 1\n",
    "    1 0 1\n",
    "    0 1 0 1"
   ]
  },
  {
   "cell_type": "code",
   "execution_count": 16,
   "metadata": {},
   "outputs": [
    {
     "name": "stdout",
     "output_type": "stream",
     "text": [
      "1  \n",
      "0 1  \n",
      "0 1 0  \n",
      "1 0 1 0  \n"
     ]
    }
   ],
   "source": [
    "k=1\n",
    "for i in range(1,5):\n",
    "    for j in range(i):\n",
    "        k=k%2\n",
    "        print (k,end=' ')\n",
    "        k+=1\n",
    "    print(' ')"
   ]
  },
  {
   "cell_type": "markdown",
   "metadata": {},
   "source": [
    "## Pattern 17\n",
    "\n",
    "**Print Given Pattern**\n",
    "     \n",
    "         0\n",
    "        0 1\n",
    "       0 0 1\n",
    "      0 0 1 0\n",
    "     0 1 0 0 1"
   ]
  },
  {
   "cell_type": "code",
   "execution_count": 17,
   "metadata": {},
   "outputs": [
    {
     "name": "stdout",
     "output_type": "stream",
     "text": [
      "    0 \n",
      "   0 1 \n",
      "  0 0 1 \n",
      " 0 0 1 0 \n",
      "0 1 0 0 1 \n"
     ]
    }
   ],
   "source": [
    "k=1\n",
    "for i in range(1,6):\n",
    "    for j in range(5-i):\n",
    "        print (end=' ')\n",
    "    for j in range(i):\n",
    "        if k%3==0:\n",
    "            print (1,end=' ')\n",
    "        else:\n",
    "            print(0,end=' ')\n",
    "        k+=1\n",
    "    print('')"
   ]
  },
  {
   "cell_type": "markdown",
   "metadata": {},
   "source": [
    "## Pattern 18\n",
    "\n",
    "**Print Given Pattern**\n",
    "    \n",
    "        2\n",
    "       3 5\n",
    "      7 11 13\n",
    "     17 19 23 29\n",
    "    31 37 41 43 47"
   ]
  },
  {
   "cell_type": "code",
   "execution_count": 18,
   "metadata": {},
   "outputs": [
    {
     "name": "stdout",
     "output_type": "stream",
     "text": [
      "     2 \n",
      "    3 5 \n",
      "   7 11 13 \n",
      "  17 19 23 29 \n",
      " 31 37 41 43 47 \n"
     ]
    }
   ],
   "source": [
    "def prime(n):\n",
    "    a=[]\n",
    "    for i in range(2,n):\n",
    "        for j in range(2,i):\n",
    "            if i%j==0:\n",
    "                break\n",
    "        else:\n",
    "            a.append(i)\n",
    "    return a\n",
    "a=prime(100)\n",
    "k=0\n",
    "for i in range(1,6):\n",
    "    for j in range(6-i):\n",
    "        print (end=' ')\n",
    "    for j in range(i):\n",
    "        print (a[k],end=' ')\n",
    "        k=k+1\n",
    "    print('')\n"
   ]
  },
  {
   "cell_type": "markdown",
   "metadata": {},
   "source": [
    "## Pattern 19\n",
    "\n",
    "**Print Given Pattern**\n",
    "      \n",
    "      A\n",
    "      B C\n",
    "      D E F\n",
    "      G H I J"
   ]
  },
  {
   "cell_type": "code",
   "execution_count": 19,
   "metadata": {},
   "outputs": [
    {
     "name": "stdout",
     "output_type": "stream",
     "text": [
      "A  \n",
      "B C  \n",
      "D E F  \n",
      "G H I J  \n"
     ]
    }
   ],
   "source": [
    "k=65\n",
    "for i in range(1,5):\n",
    "    for j in range(i):\n",
    "        print (chr(k),end=' ')\n",
    "        k+=1\n",
    "    print(' ')"
   ]
  },
  {
   "cell_type": "markdown",
   "metadata": {},
   "source": [
    "## Pattern 20\n",
    "\n",
    "**Print Given Pattern**\n",
    "    \n",
    "          A\n",
    "         B C\n",
    "        D E F\n",
    "       G H I J \n",
    "      K L M N O\n",
    "     P Q R S T U\n",
    "    V W X Y Z [ \\"
   ]
  },
  {
   "cell_type": "code",
   "execution_count": 20,
   "metadata": {},
   "outputs": [
    {
     "name": "stdout",
     "output_type": "stream",
     "text": [
      "    A \n",
      "   B C \n",
      "  D E F \n",
      " G H I J \n",
      "K L M N O \n",
      "P Q R S T U \n",
      "V W X Y Z [ \\ \n"
     ]
    }
   ],
   "source": [
    "k=65\n",
    "for i in range(1,8):\n",
    "    for j in range(5-i):\n",
    "        print (end=' ')\n",
    "    for j in range(i):\n",
    "        print (chr(k),end=' ')\n",
    "        k+=1\n",
    "    print('')"
   ]
  },
  {
   "cell_type": "code",
   "execution_count": null,
   "metadata": {
    "collapsed": true
   },
   "outputs": [],
   "source": []
  }
 ],
 "metadata": {
  "kernelspec": {
   "display_name": "Python 3",
   "language": "python",
   "name": "python3"
  },
  "language_info": {
   "codemirror_mode": {
    "name": "ipython",
    "version": 3
   },
   "file_extension": ".py",
   "mimetype": "text/x-python",
   "name": "python",
   "nbconvert_exporter": "python",
   "pygments_lexer": "ipython3",
   "version": "3.5.3"
  }
 },
 "nbformat": 4,
 "nbformat_minor": 2
}
